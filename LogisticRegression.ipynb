{
  "nbformat": 4,
  "nbformat_minor": 0,
  "metadata": {
    "colab": {
      "name": "LogisticRegression.ipynb",
      "provenance": []
    },
    "kernelspec": {
      "name": "python3",
      "display_name": "Python 3"
    },
    "language_info": {
      "name": "python"
    }
  },
  "cells": [
    {
      "cell_type": "code",
      "metadata": {
        "id": "_tip3AgFzRWg"
      },
      "source": [
        "import numpy as np\n",
        "import pandas as pd\n",
        "import statsmodels.api as sm\n",
        "import matplotlib.pyplot as plt\n",
        "from patsy import dmatrices\n",
        "from sklearn.linear_model import LogisticRegression \n",
        "from sklearn.model_selection import train_test_split \n",
        "from sklearn import metrics \n",
        "from sklearn.model_selection import cross_val_score \n",
        "dta = sm.datasets.fair.load_pandas().data\n",
        "\n",
        "#add \"affair\" column: 1 represents having affairs, 0 represents not \n",
        "dta['affair'] = (dta.affairs >0).astype(int)\n",
        "y, X = dmatrices('affair ~ rate_marriage + age +yrs_married + children + religious + educ + C(occupation) + C(occupation_husb)',dta, return_type=\"dataframe\")\n",
        "X = X.rename(columns =\n",
        "{'C(occupation)[T.2.0]':'occ_2',\n",
        "\n",
        "'C(occupation)[T.3.0]':'occ_3',\n",
        "'C(occupation)[T.4.0]':'occ_4',\n",
        "'C(occupation)[T.5.0]':'occ_5',\n",
        "'C(occupation)[T.6.0]':'occ_6',\n",
        "'C(occupation_husb)[T.2.0]':'occ_husb_2',\n",
        "'C(occupation_husb)[T.3.0]':'occ_husb_3',\n",
        "'C(occupation_husb)[T.4.0]':'occ_husb_4',\n",
        "'C(occupation_husb)[T.5.0]':'occ_husb_5',\n",
        "'C(occupation_husb)[T.6.0]':'occ_husb_6'})\n",
        "\n",
        "y = np.ravel(y)"
      ],
      "execution_count": 7,
      "outputs": []
    },
    {
      "cell_type": "code",
      "metadata": {
        "colab": {
          "base_uri": "https://localhost:8080/",
          "height": 206
        },
        "id": "zsJTCZOu0KkG",
        "outputId": "a0d8c3d2-26d6-4804-81d7-326460bd907b"
      },
      "source": [
        "dta.head()"
      ],
      "execution_count": 10,
      "outputs": [
        {
          "output_type": "execute_result",
          "data": {
            "text/html": [
              "<div>\n",
              "<style scoped>\n",
              "    .dataframe tbody tr th:only-of-type {\n",
              "        vertical-align: middle;\n",
              "    }\n",
              "\n",
              "    .dataframe tbody tr th {\n",
              "        vertical-align: top;\n",
              "    }\n",
              "\n",
              "    .dataframe thead th {\n",
              "        text-align: right;\n",
              "    }\n",
              "</style>\n",
              "<table border=\"1\" class=\"dataframe\">\n",
              "  <thead>\n",
              "    <tr style=\"text-align: right;\">\n",
              "      <th></th>\n",
              "      <th>rate_marriage</th>\n",
              "      <th>age</th>\n",
              "      <th>yrs_married</th>\n",
              "      <th>children</th>\n",
              "      <th>religious</th>\n",
              "      <th>educ</th>\n",
              "      <th>occupation</th>\n",
              "      <th>occupation_husb</th>\n",
              "      <th>affairs</th>\n",
              "      <th>affair</th>\n",
              "    </tr>\n",
              "  </thead>\n",
              "  <tbody>\n",
              "    <tr>\n",
              "      <th>0</th>\n",
              "      <td>3.0</td>\n",
              "      <td>32.0</td>\n",
              "      <td>9.0</td>\n",
              "      <td>3.0</td>\n",
              "      <td>3.0</td>\n",
              "      <td>17.0</td>\n",
              "      <td>2.0</td>\n",
              "      <td>5.0</td>\n",
              "      <td>0.111111</td>\n",
              "      <td>1</td>\n",
              "    </tr>\n",
              "    <tr>\n",
              "      <th>1</th>\n",
              "      <td>3.0</td>\n",
              "      <td>27.0</td>\n",
              "      <td>13.0</td>\n",
              "      <td>3.0</td>\n",
              "      <td>1.0</td>\n",
              "      <td>14.0</td>\n",
              "      <td>3.0</td>\n",
              "      <td>4.0</td>\n",
              "      <td>3.230769</td>\n",
              "      <td>1</td>\n",
              "    </tr>\n",
              "    <tr>\n",
              "      <th>2</th>\n",
              "      <td>4.0</td>\n",
              "      <td>22.0</td>\n",
              "      <td>2.5</td>\n",
              "      <td>0.0</td>\n",
              "      <td>1.0</td>\n",
              "      <td>16.0</td>\n",
              "      <td>3.0</td>\n",
              "      <td>5.0</td>\n",
              "      <td>1.400000</td>\n",
              "      <td>1</td>\n",
              "    </tr>\n",
              "    <tr>\n",
              "      <th>3</th>\n",
              "      <td>4.0</td>\n",
              "      <td>37.0</td>\n",
              "      <td>16.5</td>\n",
              "      <td>4.0</td>\n",
              "      <td>3.0</td>\n",
              "      <td>16.0</td>\n",
              "      <td>5.0</td>\n",
              "      <td>5.0</td>\n",
              "      <td>0.727273</td>\n",
              "      <td>1</td>\n",
              "    </tr>\n",
              "    <tr>\n",
              "      <th>4</th>\n",
              "      <td>5.0</td>\n",
              "      <td>27.0</td>\n",
              "      <td>9.0</td>\n",
              "      <td>1.0</td>\n",
              "      <td>1.0</td>\n",
              "      <td>14.0</td>\n",
              "      <td>3.0</td>\n",
              "      <td>4.0</td>\n",
              "      <td>4.666666</td>\n",
              "      <td>1</td>\n",
              "    </tr>\n",
              "  </tbody>\n",
              "</table>\n",
              "</div>"
            ],
            "text/plain": [
              "   rate_marriage   age  yrs_married  ...  occupation_husb   affairs  affair\n",
              "0            3.0  32.0          9.0  ...              5.0  0.111111       1\n",
              "1            3.0  27.0         13.0  ...              4.0  3.230769       1\n",
              "2            4.0  22.0          2.5  ...              5.0  1.400000       1\n",
              "3            4.0  37.0         16.5  ...              5.0  0.727273       1\n",
              "4            5.0  27.0          9.0  ...              4.0  4.666666       1\n",
              "\n",
              "[5 rows x 10 columns]"
            ]
          },
          "metadata": {},
          "execution_count": 10
        }
      ]
    },
    {
      "cell_type": "code",
      "metadata": {
        "colab": {
          "base_uri": "https://localhost:8080/"
        },
        "id": "oKQBArP02lXp",
        "outputId": "d6bd38fe-3a02-491c-8406-d7252becd6c0"
      },
      "source": [
        "dta.shape"
      ],
      "execution_count": 11,
      "outputs": [
        {
          "output_type": "execute_result",
          "data": {
            "text/plain": [
              "(6366, 10)"
            ]
          },
          "metadata": {},
          "execution_count": 11
        }
      ]
    },
    {
      "cell_type": "code",
      "metadata": {
        "colab": {
          "base_uri": "https://localhost:8080/",
          "height": 226
        },
        "id": "mxujvdy4zTdQ",
        "outputId": "903716e5-8e4d-46b7-8664-4374d3209586"
      },
      "source": [
        "X.head()"
      ],
      "execution_count": 12,
      "outputs": [
        {
          "output_type": "execute_result",
          "data": {
            "text/html": [
              "<div>\n",
              "<style scoped>\n",
              "    .dataframe tbody tr th:only-of-type {\n",
              "        vertical-align: middle;\n",
              "    }\n",
              "\n",
              "    .dataframe tbody tr th {\n",
              "        vertical-align: top;\n",
              "    }\n",
              "\n",
              "    .dataframe thead th {\n",
              "        text-align: right;\n",
              "    }\n",
              "</style>\n",
              "<table border=\"1\" class=\"dataframe\">\n",
              "  <thead>\n",
              "    <tr style=\"text-align: right;\">\n",
              "      <th></th>\n",
              "      <th>Intercept</th>\n",
              "      <th>occ_2</th>\n",
              "      <th>occ_3</th>\n",
              "      <th>occ_4</th>\n",
              "      <th>occ_5</th>\n",
              "      <th>occ_6</th>\n",
              "      <th>occ_husb_2</th>\n",
              "      <th>occ_husb_3</th>\n",
              "      <th>occ_husb_4</th>\n",
              "      <th>occ_husb_5</th>\n",
              "      <th>occ_husb_6</th>\n",
              "      <th>rate_marriage</th>\n",
              "      <th>age</th>\n",
              "      <th>yrs_married</th>\n",
              "      <th>children</th>\n",
              "      <th>religious</th>\n",
              "      <th>educ</th>\n",
              "    </tr>\n",
              "  </thead>\n",
              "  <tbody>\n",
              "    <tr>\n",
              "      <th>0</th>\n",
              "      <td>1.0</td>\n",
              "      <td>1.0</td>\n",
              "      <td>0.0</td>\n",
              "      <td>0.0</td>\n",
              "      <td>0.0</td>\n",
              "      <td>0.0</td>\n",
              "      <td>0.0</td>\n",
              "      <td>0.0</td>\n",
              "      <td>0.0</td>\n",
              "      <td>1.0</td>\n",
              "      <td>0.0</td>\n",
              "      <td>3.0</td>\n",
              "      <td>32.0</td>\n",
              "      <td>9.0</td>\n",
              "      <td>3.0</td>\n",
              "      <td>3.0</td>\n",
              "      <td>17.0</td>\n",
              "    </tr>\n",
              "    <tr>\n",
              "      <th>1</th>\n",
              "      <td>1.0</td>\n",
              "      <td>0.0</td>\n",
              "      <td>1.0</td>\n",
              "      <td>0.0</td>\n",
              "      <td>0.0</td>\n",
              "      <td>0.0</td>\n",
              "      <td>0.0</td>\n",
              "      <td>0.0</td>\n",
              "      <td>1.0</td>\n",
              "      <td>0.0</td>\n",
              "      <td>0.0</td>\n",
              "      <td>3.0</td>\n",
              "      <td>27.0</td>\n",
              "      <td>13.0</td>\n",
              "      <td>3.0</td>\n",
              "      <td>1.0</td>\n",
              "      <td>14.0</td>\n",
              "    </tr>\n",
              "    <tr>\n",
              "      <th>2</th>\n",
              "      <td>1.0</td>\n",
              "      <td>0.0</td>\n",
              "      <td>1.0</td>\n",
              "      <td>0.0</td>\n",
              "      <td>0.0</td>\n",
              "      <td>0.0</td>\n",
              "      <td>0.0</td>\n",
              "      <td>0.0</td>\n",
              "      <td>0.0</td>\n",
              "      <td>1.0</td>\n",
              "      <td>0.0</td>\n",
              "      <td>4.0</td>\n",
              "      <td>22.0</td>\n",
              "      <td>2.5</td>\n",
              "      <td>0.0</td>\n",
              "      <td>1.0</td>\n",
              "      <td>16.0</td>\n",
              "    </tr>\n",
              "    <tr>\n",
              "      <th>3</th>\n",
              "      <td>1.0</td>\n",
              "      <td>0.0</td>\n",
              "      <td>0.0</td>\n",
              "      <td>0.0</td>\n",
              "      <td>1.0</td>\n",
              "      <td>0.0</td>\n",
              "      <td>0.0</td>\n",
              "      <td>0.0</td>\n",
              "      <td>0.0</td>\n",
              "      <td>1.0</td>\n",
              "      <td>0.0</td>\n",
              "      <td>4.0</td>\n",
              "      <td>37.0</td>\n",
              "      <td>16.5</td>\n",
              "      <td>4.0</td>\n",
              "      <td>3.0</td>\n",
              "      <td>16.0</td>\n",
              "    </tr>\n",
              "    <tr>\n",
              "      <th>4</th>\n",
              "      <td>1.0</td>\n",
              "      <td>0.0</td>\n",
              "      <td>1.0</td>\n",
              "      <td>0.0</td>\n",
              "      <td>0.0</td>\n",
              "      <td>0.0</td>\n",
              "      <td>0.0</td>\n",
              "      <td>0.0</td>\n",
              "      <td>1.0</td>\n",
              "      <td>0.0</td>\n",
              "      <td>0.0</td>\n",
              "      <td>5.0</td>\n",
              "      <td>27.0</td>\n",
              "      <td>9.0</td>\n",
              "      <td>1.0</td>\n",
              "      <td>1.0</td>\n",
              "      <td>14.0</td>\n",
              "    </tr>\n",
              "  </tbody>\n",
              "</table>\n",
              "</div>"
            ],
            "text/plain": [
              "   Intercept  occ_2  occ_3  occ_4  ...  yrs_married  children  religious  educ\n",
              "0        1.0    1.0    0.0    0.0  ...          9.0       3.0        3.0  17.0\n",
              "1        1.0    0.0    1.0    0.0  ...         13.0       3.0        1.0  14.0\n",
              "2        1.0    0.0    1.0    0.0  ...          2.5       0.0        1.0  16.0\n",
              "3        1.0    0.0    0.0    0.0  ...         16.5       4.0        3.0  16.0\n",
              "4        1.0    0.0    1.0    0.0  ...          9.0       1.0        1.0  14.0\n",
              "\n",
              "[5 rows x 17 columns]"
            ]
          },
          "metadata": {},
          "execution_count": 12
        }
      ]
    },
    {
      "cell_type": "code",
      "metadata": {
        "colab": {
          "base_uri": "https://localhost:8080/"
        },
        "id": "45eMog7nzUxA",
        "outputId": "a7ee0b65-e329-4489-aaa8-be19b24fc254"
      },
      "source": [
        "y"
      ],
      "execution_count": 9,
      "outputs": [
        {
          "output_type": "execute_result",
          "data": {
            "text/plain": [
              "array([1., 1., 1., ..., 0., 0., 0.])"
            ]
          },
          "metadata": {},
          "execution_count": 9
        }
      ]
    },
    {
      "cell_type": "code",
      "metadata": {
        "colab": {
          "base_uri": "https://localhost:8080/",
          "height": 317
        },
        "id": "HMgMaN4t2mvy",
        "outputId": "03cf0e49-7b2f-40aa-c134-0640f29b5c5e"
      },
      "source": [
        "print(\"Statistics Summary of data 1\")\n",
        "dta.describe()"
      ],
      "execution_count": 13,
      "outputs": [
        {
          "output_type": "stream",
          "name": "stdout",
          "text": [
            "Statistics Summary of data\n"
          ]
        },
        {
          "output_type": "execute_result",
          "data": {
            "text/html": [
              "<div>\n",
              "<style scoped>\n",
              "    .dataframe tbody tr th:only-of-type {\n",
              "        vertical-align: middle;\n",
              "    }\n",
              "\n",
              "    .dataframe tbody tr th {\n",
              "        vertical-align: top;\n",
              "    }\n",
              "\n",
              "    .dataframe thead th {\n",
              "        text-align: right;\n",
              "    }\n",
              "</style>\n",
              "<table border=\"1\" class=\"dataframe\">\n",
              "  <thead>\n",
              "    <tr style=\"text-align: right;\">\n",
              "      <th></th>\n",
              "      <th>rate_marriage</th>\n",
              "      <th>age</th>\n",
              "      <th>yrs_married</th>\n",
              "      <th>children</th>\n",
              "      <th>religious</th>\n",
              "      <th>educ</th>\n",
              "      <th>occupation</th>\n",
              "      <th>occupation_husb</th>\n",
              "      <th>affairs</th>\n",
              "      <th>affair</th>\n",
              "    </tr>\n",
              "  </thead>\n",
              "  <tbody>\n",
              "    <tr>\n",
              "      <th>count</th>\n",
              "      <td>6366.000000</td>\n",
              "      <td>6366.000000</td>\n",
              "      <td>6366.000000</td>\n",
              "      <td>6366.000000</td>\n",
              "      <td>6366.000000</td>\n",
              "      <td>6366.000000</td>\n",
              "      <td>6366.000000</td>\n",
              "      <td>6366.000000</td>\n",
              "      <td>6366.000000</td>\n",
              "      <td>6366.000000</td>\n",
              "    </tr>\n",
              "    <tr>\n",
              "      <th>mean</th>\n",
              "      <td>4.109645</td>\n",
              "      <td>29.082862</td>\n",
              "      <td>9.009425</td>\n",
              "      <td>1.396874</td>\n",
              "      <td>2.426170</td>\n",
              "      <td>14.209865</td>\n",
              "      <td>3.424128</td>\n",
              "      <td>3.850141</td>\n",
              "      <td>0.705374</td>\n",
              "      <td>0.322495</td>\n",
              "    </tr>\n",
              "    <tr>\n",
              "      <th>std</th>\n",
              "      <td>0.961430</td>\n",
              "      <td>6.847882</td>\n",
              "      <td>7.280120</td>\n",
              "      <td>1.433471</td>\n",
              "      <td>0.878369</td>\n",
              "      <td>2.178003</td>\n",
              "      <td>0.942399</td>\n",
              "      <td>1.346435</td>\n",
              "      <td>2.203374</td>\n",
              "      <td>0.467468</td>\n",
              "    </tr>\n",
              "    <tr>\n",
              "      <th>min</th>\n",
              "      <td>1.000000</td>\n",
              "      <td>17.500000</td>\n",
              "      <td>0.500000</td>\n",
              "      <td>0.000000</td>\n",
              "      <td>1.000000</td>\n",
              "      <td>9.000000</td>\n",
              "      <td>1.000000</td>\n",
              "      <td>1.000000</td>\n",
              "      <td>0.000000</td>\n",
              "      <td>0.000000</td>\n",
              "    </tr>\n",
              "    <tr>\n",
              "      <th>25%</th>\n",
              "      <td>4.000000</td>\n",
              "      <td>22.000000</td>\n",
              "      <td>2.500000</td>\n",
              "      <td>0.000000</td>\n",
              "      <td>2.000000</td>\n",
              "      <td>12.000000</td>\n",
              "      <td>3.000000</td>\n",
              "      <td>3.000000</td>\n",
              "      <td>0.000000</td>\n",
              "      <td>0.000000</td>\n",
              "    </tr>\n",
              "    <tr>\n",
              "      <th>50%</th>\n",
              "      <td>4.000000</td>\n",
              "      <td>27.000000</td>\n",
              "      <td>6.000000</td>\n",
              "      <td>1.000000</td>\n",
              "      <td>2.000000</td>\n",
              "      <td>14.000000</td>\n",
              "      <td>3.000000</td>\n",
              "      <td>4.000000</td>\n",
              "      <td>0.000000</td>\n",
              "      <td>0.000000</td>\n",
              "    </tr>\n",
              "    <tr>\n",
              "      <th>75%</th>\n",
              "      <td>5.000000</td>\n",
              "      <td>32.000000</td>\n",
              "      <td>16.500000</td>\n",
              "      <td>2.000000</td>\n",
              "      <td>3.000000</td>\n",
              "      <td>16.000000</td>\n",
              "      <td>4.000000</td>\n",
              "      <td>5.000000</td>\n",
              "      <td>0.484848</td>\n",
              "      <td>1.000000</td>\n",
              "    </tr>\n",
              "    <tr>\n",
              "      <th>max</th>\n",
              "      <td>5.000000</td>\n",
              "      <td>42.000000</td>\n",
              "      <td>23.000000</td>\n",
              "      <td>5.500000</td>\n",
              "      <td>4.000000</td>\n",
              "      <td>20.000000</td>\n",
              "      <td>6.000000</td>\n",
              "      <td>6.000000</td>\n",
              "      <td>57.599991</td>\n",
              "      <td>1.000000</td>\n",
              "    </tr>\n",
              "  </tbody>\n",
              "</table>\n",
              "</div>"
            ],
            "text/plain": [
              "       rate_marriage          age  ...      affairs       affair\n",
              "count    6366.000000  6366.000000  ...  6366.000000  6366.000000\n",
              "mean        4.109645    29.082862  ...     0.705374     0.322495\n",
              "std         0.961430     6.847882  ...     2.203374     0.467468\n",
              "min         1.000000    17.500000  ...     0.000000     0.000000\n",
              "25%         4.000000    22.000000  ...     0.000000     0.000000\n",
              "50%         4.000000    27.000000  ...     0.000000     0.000000\n",
              "75%         5.000000    32.000000  ...     0.484848     1.000000\n",
              "max         5.000000    42.000000  ...    57.599991     1.000000\n",
              "\n",
              "[8 rows x 10 columns]"
            ]
          },
          "metadata": {},
          "execution_count": 13
        }
      ]
    },
    {
      "cell_type": "code",
      "metadata": {
        "colab": {
          "base_uri": "https://localhost:8080/",
          "height": 599
        },
        "id": "_Sbulxn423CQ",
        "outputId": "e097974a-f700-47e7-c435-e268b92c7b99"
      },
      "source": [
        "print(\"Statistics Summary of data 2\")\n",
        "X.describe().T"
      ],
      "execution_count": 15,
      "outputs": [
        {
          "output_type": "stream",
          "name": "stdout",
          "text": [
            "Statistics Summary of data 2\n"
          ]
        },
        {
          "output_type": "execute_result",
          "data": {
            "text/html": [
              "<div>\n",
              "<style scoped>\n",
              "    .dataframe tbody tr th:only-of-type {\n",
              "        vertical-align: middle;\n",
              "    }\n",
              "\n",
              "    .dataframe tbody tr th {\n",
              "        vertical-align: top;\n",
              "    }\n",
              "\n",
              "    .dataframe thead th {\n",
              "        text-align: right;\n",
              "    }\n",
              "</style>\n",
              "<table border=\"1\" class=\"dataframe\">\n",
              "  <thead>\n",
              "    <tr style=\"text-align: right;\">\n",
              "      <th></th>\n",
              "      <th>count</th>\n",
              "      <th>mean</th>\n",
              "      <th>std</th>\n",
              "      <th>min</th>\n",
              "      <th>25%</th>\n",
              "      <th>50%</th>\n",
              "      <th>75%</th>\n",
              "      <th>max</th>\n",
              "    </tr>\n",
              "  </thead>\n",
              "  <tbody>\n",
              "    <tr>\n",
              "      <th>Intercept</th>\n",
              "      <td>6366.0</td>\n",
              "      <td>1.000000</td>\n",
              "      <td>0.000000</td>\n",
              "      <td>1.0</td>\n",
              "      <td>1.0</td>\n",
              "      <td>1.0</td>\n",
              "      <td>1.0</td>\n",
              "      <td>1.0</td>\n",
              "    </tr>\n",
              "    <tr>\n",
              "      <th>occ_2</th>\n",
              "      <td>6366.0</td>\n",
              "      <td>0.134936</td>\n",
              "      <td>0.341682</td>\n",
              "      <td>0.0</td>\n",
              "      <td>0.0</td>\n",
              "      <td>0.0</td>\n",
              "      <td>0.0</td>\n",
              "      <td>1.0</td>\n",
              "    </tr>\n",
              "    <tr>\n",
              "      <th>occ_3</th>\n",
              "      <td>6366.0</td>\n",
              "      <td>0.437166</td>\n",
              "      <td>0.496075</td>\n",
              "      <td>0.0</td>\n",
              "      <td>0.0</td>\n",
              "      <td>0.0</td>\n",
              "      <td>1.0</td>\n",
              "      <td>1.0</td>\n",
              "    </tr>\n",
              "    <tr>\n",
              "      <th>occ_4</th>\n",
              "      <td>6366.0</td>\n",
              "      <td>0.288093</td>\n",
              "      <td>0.452910</td>\n",
              "      <td>0.0</td>\n",
              "      <td>0.0</td>\n",
              "      <td>0.0</td>\n",
              "      <td>1.0</td>\n",
              "      <td>1.0</td>\n",
              "    </tr>\n",
              "    <tr>\n",
              "      <th>occ_5</th>\n",
              "      <td>6366.0</td>\n",
              "      <td>0.116243</td>\n",
              "      <td>0.320541</td>\n",
              "      <td>0.0</td>\n",
              "      <td>0.0</td>\n",
              "      <td>0.0</td>\n",
              "      <td>0.0</td>\n",
              "      <td>1.0</td>\n",
              "    </tr>\n",
              "    <tr>\n",
              "      <th>occ_6</th>\n",
              "      <td>6366.0</td>\n",
              "      <td>0.017122</td>\n",
              "      <td>0.129737</td>\n",
              "      <td>0.0</td>\n",
              "      <td>0.0</td>\n",
              "      <td>0.0</td>\n",
              "      <td>0.0</td>\n",
              "      <td>1.0</td>\n",
              "    </tr>\n",
              "    <tr>\n",
              "      <th>occ_husb_2</th>\n",
              "      <td>6366.0</td>\n",
              "      <td>0.205467</td>\n",
              "      <td>0.404074</td>\n",
              "      <td>0.0</td>\n",
              "      <td>0.0</td>\n",
              "      <td>0.0</td>\n",
              "      <td>0.0</td>\n",
              "      <td>1.0</td>\n",
              "    </tr>\n",
              "    <tr>\n",
              "      <th>occ_husb_3</th>\n",
              "      <td>6366.0</td>\n",
              "      <td>0.076971</td>\n",
              "      <td>0.266567</td>\n",
              "      <td>0.0</td>\n",
              "      <td>0.0</td>\n",
              "      <td>0.0</td>\n",
              "      <td>0.0</td>\n",
              "      <td>1.0</td>\n",
              "    </tr>\n",
              "    <tr>\n",
              "      <th>occ_husb_4</th>\n",
              "      <td>6366.0</td>\n",
              "      <td>0.318882</td>\n",
              "      <td>0.466080</td>\n",
              "      <td>0.0</td>\n",
              "      <td>0.0</td>\n",
              "      <td>0.0</td>\n",
              "      <td>1.0</td>\n",
              "      <td>1.0</td>\n",
              "    </tr>\n",
              "    <tr>\n",
              "      <th>occ_husb_5</th>\n",
              "      <td>6366.0</td>\n",
              "      <td>0.279453</td>\n",
              "      <td>0.448766</td>\n",
              "      <td>0.0</td>\n",
              "      <td>0.0</td>\n",
              "      <td>0.0</td>\n",
              "      <td>1.0</td>\n",
              "      <td>1.0</td>\n",
              "    </tr>\n",
              "    <tr>\n",
              "      <th>occ_husb_6</th>\n",
              "      <td>6366.0</td>\n",
              "      <td>0.083255</td>\n",
              "      <td>0.276289</td>\n",
              "      <td>0.0</td>\n",
              "      <td>0.0</td>\n",
              "      <td>0.0</td>\n",
              "      <td>0.0</td>\n",
              "      <td>1.0</td>\n",
              "    </tr>\n",
              "    <tr>\n",
              "      <th>rate_marriage</th>\n",
              "      <td>6366.0</td>\n",
              "      <td>4.109645</td>\n",
              "      <td>0.961430</td>\n",
              "      <td>1.0</td>\n",
              "      <td>4.0</td>\n",
              "      <td>4.0</td>\n",
              "      <td>5.0</td>\n",
              "      <td>5.0</td>\n",
              "    </tr>\n",
              "    <tr>\n",
              "      <th>age</th>\n",
              "      <td>6366.0</td>\n",
              "      <td>29.082862</td>\n",
              "      <td>6.847882</td>\n",
              "      <td>17.5</td>\n",
              "      <td>22.0</td>\n",
              "      <td>27.0</td>\n",
              "      <td>32.0</td>\n",
              "      <td>42.0</td>\n",
              "    </tr>\n",
              "    <tr>\n",
              "      <th>yrs_married</th>\n",
              "      <td>6366.0</td>\n",
              "      <td>9.009425</td>\n",
              "      <td>7.280120</td>\n",
              "      <td>0.5</td>\n",
              "      <td>2.5</td>\n",
              "      <td>6.0</td>\n",
              "      <td>16.5</td>\n",
              "      <td>23.0</td>\n",
              "    </tr>\n",
              "    <tr>\n",
              "      <th>children</th>\n",
              "      <td>6366.0</td>\n",
              "      <td>1.396874</td>\n",
              "      <td>1.433471</td>\n",
              "      <td>0.0</td>\n",
              "      <td>0.0</td>\n",
              "      <td>1.0</td>\n",
              "      <td>2.0</td>\n",
              "      <td>5.5</td>\n",
              "    </tr>\n",
              "    <tr>\n",
              "      <th>religious</th>\n",
              "      <td>6366.0</td>\n",
              "      <td>2.426170</td>\n",
              "      <td>0.878369</td>\n",
              "      <td>1.0</td>\n",
              "      <td>2.0</td>\n",
              "      <td>2.0</td>\n",
              "      <td>3.0</td>\n",
              "      <td>4.0</td>\n",
              "    </tr>\n",
              "    <tr>\n",
              "      <th>educ</th>\n",
              "      <td>6366.0</td>\n",
              "      <td>14.209865</td>\n",
              "      <td>2.178003</td>\n",
              "      <td>9.0</td>\n",
              "      <td>12.0</td>\n",
              "      <td>14.0</td>\n",
              "      <td>16.0</td>\n",
              "      <td>20.0</td>\n",
              "    </tr>\n",
              "  </tbody>\n",
              "</table>\n",
              "</div>"
            ],
            "text/plain": [
              "                count       mean       std   min   25%   50%   75%   max\n",
              "Intercept      6366.0   1.000000  0.000000   1.0   1.0   1.0   1.0   1.0\n",
              "occ_2          6366.0   0.134936  0.341682   0.0   0.0   0.0   0.0   1.0\n",
              "occ_3          6366.0   0.437166  0.496075   0.0   0.0   0.0   1.0   1.0\n",
              "occ_4          6366.0   0.288093  0.452910   0.0   0.0   0.0   1.0   1.0\n",
              "occ_5          6366.0   0.116243  0.320541   0.0   0.0   0.0   0.0   1.0\n",
              "occ_6          6366.0   0.017122  0.129737   0.0   0.0   0.0   0.0   1.0\n",
              "occ_husb_2     6366.0   0.205467  0.404074   0.0   0.0   0.0   0.0   1.0\n",
              "occ_husb_3     6366.0   0.076971  0.266567   0.0   0.0   0.0   0.0   1.0\n",
              "occ_husb_4     6366.0   0.318882  0.466080   0.0   0.0   0.0   1.0   1.0\n",
              "occ_husb_5     6366.0   0.279453  0.448766   0.0   0.0   0.0   1.0   1.0\n",
              "occ_husb_6     6366.0   0.083255  0.276289   0.0   0.0   0.0   0.0   1.0\n",
              "rate_marriage  6366.0   4.109645  0.961430   1.0   4.0   4.0   5.0   5.0\n",
              "age            6366.0  29.082862  6.847882  17.5  22.0  27.0  32.0  42.0\n",
              "yrs_married    6366.0   9.009425  7.280120   0.5   2.5   6.0  16.5  23.0\n",
              "children       6366.0   1.396874  1.433471   0.0   0.0   1.0   2.0   5.5\n",
              "religious      6366.0   2.426170  0.878369   1.0   2.0   2.0   3.0   4.0\n",
              "educ           6366.0  14.209865  2.178003   9.0  12.0  14.0  16.0  20.0"
            ]
          },
          "metadata": {},
          "execution_count": 15
        }
      ]
    },
    {
      "cell_type": "code",
      "metadata": {
        "colab": {
          "base_uri": "https://localhost:8080/",
          "height": 524
        },
        "id": "WgqfAHmg28rl",
        "outputId": "4888ed28-f9ea-4f45-e31f-fb900306e8c9"
      },
      "source": [
        "%matplotlib inline\n",
        "plt.figure(figsize=(20,20))\n",
        "dta.hist()\n",
        "    "
      ],
      "execution_count": 23,
      "outputs": [
        {
          "output_type": "execute_result",
          "data": {
            "text/plain": [
              "array([[<matplotlib.axes._subplots.AxesSubplot object at 0x7fd2582216d0>,\n",
              "        <matplotlib.axes._subplots.AxesSubplot object at 0x7fd25823b450>,\n",
              "        <matplotlib.axes._subplots.AxesSubplot object at 0x7fd2581f0990>],\n",
              "       [<matplotlib.axes._subplots.AxesSubplot object at 0x7fd2581a7f10>,\n",
              "        <matplotlib.axes._subplots.AxesSubplot object at 0x7fd2581694d0>,\n",
              "        <matplotlib.axes._subplots.AxesSubplot object at 0x7fd25811ea50>],\n",
              "       [<matplotlib.axes._subplots.AxesSubplot object at 0x7fd2580d4fd0>,\n",
              "        <matplotlib.axes._subplots.AxesSubplot object at 0x7fd258095590>,\n",
              "        <matplotlib.axes._subplots.AxesSubplot object at 0x7fd2580a7e10>],\n",
              "       [<matplotlib.axes._subplots.AxesSubplot object at 0x7fd258069450>,\n",
              "        <matplotlib.axes._subplots.AxesSubplot object at 0x7fd258043650>,\n",
              "        <matplotlib.axes._subplots.AxesSubplot object at 0x7fd257ffabd0>]],\n",
              "      dtype=object)"
            ]
          },
          "metadata": {},
          "execution_count": 23
        },
        {
          "output_type": "display_data",
          "data": {
            "text/plain": [
              "<Figure size 1440x1440 with 0 Axes>"
            ]
          },
          "metadata": {}
        },
        {
          "output_type": "display_data",
          "data": {
            "image/png": "[encoded data removed]",
            "text/plain": [
              "<Figure size 432x288 with 12 Axes>"
            ]
          },
          "metadata": {
            "needs_background": "light"
          }
        }
      ]
    },
    {
      "cell_type": "code",
      "metadata": {
        "colab": {
          "base_uri": "https://localhost:8080/"
        },
        "id": "LUq9k-1P3Mig",
        "outputId": "eade358c-eafc-4320-9042-a4ee2301a884"
      },
      "source": [
        "print(\"Train Test Split\")\n",
        "from sklearn.model_selection import train_test_split\n",
        "\n",
        "X_train,X_test,y_train,y_test = train_test_split(X,y,test_size=0.20,random_state=0)\n",
        "print(\"Size of train data: \",X_train.shape)\n",
        "print(\"Size of train label: \",y_train.shape)\n",
        "print(\"Size of test data: \",X_test.shape)\n",
        "print(\"Size of test label: \",y_test.shape)"
      ],
      "execution_count": 24,
      "outputs": [
        {
          "output_type": "stream",
          "name": "stdout",
          "text": [
            "Train Test Split\n",
            "Size of train data:  (5092, 17)\n",
            "Size of train label:  (5092,)\n",
            "Size of test data:  (1274, 17)\n",
            "Size of test label:  (1274,)\n"
          ]
        }
      ]
    },
    {
      "cell_type": "code",
      "metadata": {
        "colab": {
          "base_uri": "https://localhost:8080/"
        },
        "id": "ee-2OAQa4-xh",
        "outputId": "053b8298-72fa-48b7-afc8-8eb55b59f2ad"
      },
      "source": [
        "logit = sm.Logit(y_train,X_train)\n",
        "fit_res = logit.fit()"
      ],
      "execution_count": 25,
      "outputs": [
        {
          "output_type": "stream",
          "name": "stdout",
          "text": [
            "Optimization terminated successfully.\n",
            "         Current function value: 0.546532\n",
            "         Iterations 6\n"
          ]
        }
      ]
    },
    {
      "cell_type": "code",
      "metadata": {
        "colab": {
          "base_uri": "https://localhost:8080/"
        },
        "id": "t5jtDrCm5Qs3",
        "outputId": "fac25645-3604-45f5-8616-6f312441fd0b"
      },
      "source": [
        "fit_res.predict(X_test)"
      ],
      "execution_count": 26,
      "outputs": [
        {
          "output_type": "execute_result",
          "data": {
            "text/plain": [
              "2764    0.654847\n",
              "4481    0.089395\n",
              "5360    0.264188\n",
              "5802    0.251308\n",
              "1220    0.242554\n",
              "          ...   \n",
              "4287    0.093273\n",
              "5257    0.197567\n",
              "4388    0.666247\n",
              "2580    0.305448\n",
              "534     0.653035\n",
              "Length: 1274, dtype: float64"
            ]
          },
          "metadata": {},
          "execution_count": 26
        }
      ]
    },
    {
      "cell_type": "code",
      "metadata": {
        "id": "aUdGZFZd5VDg"
      },
      "source": [
        "from scipy import stats\n",
        "\n",
        "stats.chisqprob = lambda chisq, df:stats.chi2.sf(chisq,df)"
      ],
      "execution_count": 28,
      "outputs": []
    },
    {
      "cell_type": "code",
      "metadata": {
        "colab": {
          "base_uri": "https://localhost:8080/",
          "height": 572
        },
        "id": "hjFJDv0d5kW3",
        "outputId": "38aee8aa-1c00-4015-f610-c36f0a6c5952"
      },
      "source": [
        "fit_res.summary()"
      ],
      "execution_count": 29,
      "outputs": [
        {
          "output_type": "execute_result",
          "data": {
            "text/html": [
              "<table class=\"simpletable\">\n",
              "<caption>Logit Regression Results</caption>\n",
              "<tr>\n",
              "  <th>Dep. Variable:</th>           <td>y</td>        <th>  No. Observations:  </th>   <td>  5092</td>  \n",
              "</tr>\n",
              "<tr>\n",
              "  <th>Model:</th>                 <td>Logit</td>      <th>  Df Residuals:      </th>   <td>  5075</td>  \n",
              "</tr>\n",
              "<tr>\n",
              "  <th>Method:</th>                 <td>MLE</td>       <th>  Df Model:          </th>   <td>    16</td>  \n",
              "</tr>\n",
              "<tr>\n",
              "  <th>Date:</th>            <td>Tue, 14 Sep 2021</td> <th>  Pseudo R-squ.:     </th>   <td>0.1351</td>  \n",
              "</tr>\n",
              "<tr>\n",
              "  <th>Time:</th>                <td>10:42:32</td>     <th>  Log-Likelihood:    </th>  <td> -2782.9</td> \n",
              "</tr>\n",
              "<tr>\n",
              "  <th>converged:</th>             <td>True</td>       <th>  LL-Null:           </th>  <td> -3217.5</td> \n",
              "</tr>\n",
              "<tr>\n",
              "  <th>Covariance Type:</th>     <td>nonrobust</td>    <th>  LLR p-value:       </th> <td>1.072e-174</td>\n",
              "</tr>\n",
              "</table>\n",
              "<table class=\"simpletable\">\n",
              "<tr>\n",
              "        <td></td>           <th>coef</th>     <th>std err</th>      <th>z</th>      <th>P>|z|</th>  <th>[0.025</th>    <th>0.975]</th>  \n",
              "</tr>\n",
              "<tr>\n",
              "  <th>Intercept</th>     <td>    2.6134</td> <td>    0.697</td> <td>    3.749</td> <td> 0.000</td> <td>    1.247</td> <td>    3.980</td>\n",
              "</tr>\n",
              "<tr>\n",
              "  <th>occ_2</th>         <td>    0.7815</td> <td>    0.577</td> <td>    1.356</td> <td> 0.175</td> <td>   -0.348</td> <td>    1.911</td>\n",
              "</tr>\n",
              "<tr>\n",
              "  <th>occ_3</th>         <td>    1.0365</td> <td>    0.571</td> <td>    1.815</td> <td> 0.070</td> <td>   -0.083</td> <td>    2.156</td>\n",
              "</tr>\n",
              "<tr>\n",
              "  <th>occ_4</th>         <td>    0.7969</td> <td>    0.572</td> <td>    1.393</td> <td> 0.164</td> <td>   -0.325</td> <td>    1.918</td>\n",
              "</tr>\n",
              "<tr>\n",
              "  <th>occ_5</th>         <td>    1.4473</td> <td>    0.576</td> <td>    2.512</td> <td> 0.012</td> <td>    0.318</td> <td>    2.576</td>\n",
              "</tr>\n",
              "<tr>\n",
              "  <th>occ_6</th>         <td>    1.4643</td> <td>    0.623</td> <td>    2.350</td> <td> 0.019</td> <td>    0.243</td> <td>    2.685</td>\n",
              "</tr>\n",
              "<tr>\n",
              "  <th>occ_husb_2</th>    <td>    0.0365</td> <td>    0.204</td> <td>    0.179</td> <td> 0.858</td> <td>   -0.363</td> <td>    0.436</td>\n",
              "</tr>\n",
              "<tr>\n",
              "  <th>occ_husb_3</th>    <td>    0.1255</td> <td>    0.223</td> <td>    0.564</td> <td> 0.573</td> <td>   -0.311</td> <td>    0.562</td>\n",
              "</tr>\n",
              "<tr>\n",
              "  <th>occ_husb_4</th>    <td>    0.0093</td> <td>    0.198</td> <td>    0.047</td> <td> 0.963</td> <td>   -0.379</td> <td>    0.397</td>\n",
              "</tr>\n",
              "<tr>\n",
              "  <th>occ_husb_5</th>    <td>    0.0268</td> <td>    0.200</td> <td>    0.134</td> <td> 0.893</td> <td>   -0.364</td> <td>    0.418</td>\n",
              "</tr>\n",
              "<tr>\n",
              "  <th>occ_husb_6</th>    <td>   -0.0111</td> <td>    0.224</td> <td>   -0.050</td> <td> 0.960</td> <td>   -0.449</td> <td>    0.427</td>\n",
              "</tr>\n",
              "<tr>\n",
              "  <th>rate_marriage</th> <td>   -0.7008</td> <td>    0.035</td> <td>  -20.018</td> <td> 0.000</td> <td>   -0.769</td> <td>   -0.632</td>\n",
              "</tr>\n",
              "<tr>\n",
              "  <th>age</th>           <td>   -0.0576</td> <td>    0.012</td> <td>   -4.984</td> <td> 0.000</td> <td>   -0.080</td> <td>   -0.035</td>\n",
              "</tr>\n",
              "<tr>\n",
              "  <th>yrs_married</th>   <td>    0.1085</td> <td>    0.012</td> <td>    8.807</td> <td> 0.000</td> <td>    0.084</td> <td>    0.133</td>\n",
              "</tr>\n",
              "<tr>\n",
              "  <th>children</th>      <td>    0.0027</td> <td>    0.036</td> <td>    0.075</td> <td> 0.940</td> <td>   -0.067</td> <td>    0.073</td>\n",
              "</tr>\n",
              "<tr>\n",
              "  <th>religious</th>     <td>   -0.3799</td> <td>    0.039</td> <td>   -9.776</td> <td> 0.000</td> <td>   -0.456</td> <td>   -0.304</td>\n",
              "</tr>\n",
              "<tr>\n",
              "  <th>educ</th>          <td>    0.0013</td> <td>    0.019</td> <td>    0.068</td> <td> 0.945</td> <td>   -0.037</td> <td>    0.039</td>\n",
              "</tr>\n",
              "</table>"
            ],
            "text/plain": [
              "<class 'statsmodels.iolib.summary.Summary'>\n",
              "\"\"\"\n",
              "                           Logit Regression Results                           \n",
              "==============================================================================\n",
              "Dep. Variable:                      y   No. Observations:                 5092\n",
              "Model:                          Logit   Df Residuals:                     5075\n",
              "Method:                           MLE   Df Model:                           16\n",
              "Date:                Tue, 14 Sep 2021   Pseudo R-squ.:                  0.1351\n",
              "Time:                        10:42:32   Log-Likelihood:                -2782.9\n",
              "converged:                       True   LL-Null:                       -3217.5\n",
              "Covariance Type:            nonrobust   LLR p-value:                1.072e-174\n",
              "=================================================================================\n",
              "                    coef    std err          z      P>|z|      [0.025      0.975]\n",
              "---------------------------------------------------------------------------------\n",
              "Intercept         2.6134      0.697      3.749      0.000       1.247       3.980\n",
              "occ_2             0.7815      0.577      1.356      0.175      -0.348       1.911\n",
              "occ_3             1.0365      0.571      1.815      0.070      -0.083       2.156\n",
              "occ_4             0.7969      0.572      1.393      0.164      -0.325       1.918\n",
              "occ_5             1.4473      0.576      2.512      0.012       0.318       2.576\n",
              "occ_6             1.4643      0.623      2.350      0.019       0.243       2.685\n",
              "occ_husb_2        0.0365      0.204      0.179      0.858      -0.363       0.436\n",
              "occ_husb_3        0.1255      0.223      0.564      0.573      -0.311       0.562\n",
              "occ_husb_4        0.0093      0.198      0.047      0.963      -0.379       0.397\n",
              "occ_husb_5        0.0268      0.200      0.134      0.893      -0.364       0.418\n",
              "occ_husb_6       -0.0111      0.224     -0.050      0.960      -0.449       0.427\n",
              "rate_marriage    -0.7008      0.035    -20.018      0.000      -0.769      -0.632\n",
              "age              -0.0576      0.012     -4.984      0.000      -0.080      -0.035\n",
              "yrs_married       0.1085      0.012      8.807      0.000       0.084       0.133\n",
              "children          0.0027      0.036      0.075      0.940      -0.067       0.073\n",
              "religious        -0.3799      0.039     -9.776      0.000      -0.456      -0.304\n",
              "educ              0.0013      0.019      0.068      0.945      -0.037       0.039\n",
              "=================================================================================\n",
              "\"\"\""
            ]
          },
          "metadata": {},
          "execution_count": 29
        }
      ]
    },
    {
      "cell_type": "code",
      "metadata": {
        "colab": {
          "base_uri": "https://localhost:8080/"
        },
        "id": "afHrf0vE5q8f",
        "outputId": "93dee913-d4e7-43e2-c9b8-8ee9780f81b5"
      },
      "source": [
        "dta.affair.value_counts()"
      ],
      "execution_count": 30,
      "outputs": [
        {
          "output_type": "execute_result",
          "data": {
            "text/plain": [
              "0    4313\n",
              "1    2053\n",
              "Name: affair, dtype: int64"
            ]
          },
          "metadata": {},
          "execution_count": 30
        }
      ]
    },
    {
      "cell_type": "code",
      "metadata": {
        "colab": {
          "base_uri": "https://localhost:8080/",
          "height": 143
        },
        "id": "I4uVLwly59f1",
        "outputId": "39bf0eed-a5a1-42db-dcb6-ea917be46849"
      },
      "source": [
        "dta.groupby(\"affair\").mean()"
      ],
      "execution_count": 31,
      "outputs": [
        {
          "output_type": "execute_result",
          "data": {
            "text/html": [
              "<div>\n",
              "<style scoped>\n",
              "    .dataframe tbody tr th:only-of-type {\n",
              "        vertical-align: middle;\n",
              "    }\n",
              "\n",
              "    .dataframe tbody tr th {\n",
              "        vertical-align: top;\n",
              "    }\n",
              "\n",
              "    .dataframe thead th {\n",
              "        text-align: right;\n",
              "    }\n",
              "</style>\n",
              "<table border=\"1\" class=\"dataframe\">\n",
              "  <thead>\n",
              "    <tr style=\"text-align: right;\">\n",
              "      <th></th>\n",
              "      <th>rate_marriage</th>\n",
              "      <th>age</th>\n",
              "      <th>yrs_married</th>\n",
              "      <th>children</th>\n",
              "      <th>religious</th>\n",
              "      <th>educ</th>\n",
              "      <th>occupation</th>\n",
              "      <th>occupation_husb</th>\n",
              "      <th>affairs</th>\n",
              "    </tr>\n",
              "    <tr>\n",
              "      <th>affair</th>\n",
              "      <th></th>\n",
              "      <th></th>\n",
              "      <th></th>\n",
              "      <th></th>\n",
              "      <th></th>\n",
              "      <th></th>\n",
              "      <th></th>\n",
              "      <th></th>\n",
              "      <th></th>\n",
              "    </tr>\n",
              "  </thead>\n",
              "  <tbody>\n",
              "    <tr>\n",
              "      <th>0</th>\n",
              "      <td>4.329701</td>\n",
              "      <td>28.390679</td>\n",
              "      <td>7.989335</td>\n",
              "      <td>1.238813</td>\n",
              "      <td>2.504521</td>\n",
              "      <td>14.322977</td>\n",
              "      <td>3.405286</td>\n",
              "      <td>3.833758</td>\n",
              "      <td>0.000000</td>\n",
              "    </tr>\n",
              "    <tr>\n",
              "      <th>1</th>\n",
              "      <td>3.647345</td>\n",
              "      <td>30.537019</td>\n",
              "      <td>11.152460</td>\n",
              "      <td>1.728933</td>\n",
              "      <td>2.261568</td>\n",
              "      <td>13.972236</td>\n",
              "      <td>3.463712</td>\n",
              "      <td>3.884559</td>\n",
              "      <td>2.187243</td>\n",
              "    </tr>\n",
              "  </tbody>\n",
              "</table>\n",
              "</div>"
            ],
            "text/plain": [
              "        rate_marriage        age  ...  occupation_husb   affairs\n",
              "affair                            ...                           \n",
              "0            4.329701  28.390679  ...         3.833758  0.000000\n",
              "1            3.647345  30.537019  ...         3.884559  2.187243\n",
              "\n",
              "[2 rows x 9 columns]"
            ]
          },
          "metadata": {},
          "execution_count": 31
        }
      ]
    },
    {
      "cell_type": "code",
      "metadata": {
        "colab": {
          "base_uri": "https://localhost:8080/"
        },
        "id": "dYvahXlI6Ex0",
        "outputId": "e9d034dc-6932-49bb-d56b-15b152de43f4"
      },
      "source": [
        "print(\"From the above finding women having affairs rate their marriage less as compared to women without affairs\")"
      ],
      "execution_count": 32,
      "outputs": [
        {
          "output_type": "stream",
          "name": "stdout",
          "text": [
            "From the above finding women having affairs rate their marriage less as compared to women without affairs\n"
          ]
        }
      ]
    },
    {
      "cell_type": "code",
      "metadata": {
        "colab": {
          "base_uri": "https://localhost:8080/",
          "height": 237
        },
        "id": "NZgdF8UD6b5A",
        "outputId": "ba966aaa-cbd7-4a1c-8fab-af4e465b3ada"
      },
      "source": [
        "dta.groupby(\"rate_marriage\").mean()"
      ],
      "execution_count": 33,
      "outputs": [
        {
          "output_type": "execute_result",
          "data": {
            "text/html": [
              "<div>\n",
              "<style scoped>\n",
              "    .dataframe tbody tr th:only-of-type {\n",
              "        vertical-align: middle;\n",
              "    }\n",
              "\n",
              "    .dataframe tbody tr th {\n",
              "        vertical-align: top;\n",
              "    }\n",
              "\n",
              "    .dataframe thead th {\n",
              "        text-align: right;\n",
              "    }\n",
              "</style>\n",
              "<table border=\"1\" class=\"dataframe\">\n",
              "  <thead>\n",
              "    <tr style=\"text-align: right;\">\n",
              "      <th></th>\n",
              "      <th>age</th>\n",
              "      <th>yrs_married</th>\n",
              "      <th>children</th>\n",
              "      <th>religious</th>\n",
              "      <th>educ</th>\n",
              "      <th>occupation</th>\n",
              "      <th>occupation_husb</th>\n",
              "      <th>affairs</th>\n",
              "      <th>affair</th>\n",
              "    </tr>\n",
              "    <tr>\n",
              "      <th>rate_marriage</th>\n",
              "      <th></th>\n",
              "      <th></th>\n",
              "      <th></th>\n",
              "      <th></th>\n",
              "      <th></th>\n",
              "      <th></th>\n",
              "      <th></th>\n",
              "      <th></th>\n",
              "      <th></th>\n",
              "    </tr>\n",
              "  </thead>\n",
              "  <tbody>\n",
              "    <tr>\n",
              "      <th>1.0</th>\n",
              "      <td>33.823232</td>\n",
              "      <td>13.914141</td>\n",
              "      <td>2.308081</td>\n",
              "      <td>2.343434</td>\n",
              "      <td>13.848485</td>\n",
              "      <td>3.232323</td>\n",
              "      <td>3.838384</td>\n",
              "      <td>1.201671</td>\n",
              "      <td>0.747475</td>\n",
              "    </tr>\n",
              "    <tr>\n",
              "      <th>2.0</th>\n",
              "      <td>30.471264</td>\n",
              "      <td>10.727011</td>\n",
              "      <td>1.735632</td>\n",
              "      <td>2.330460</td>\n",
              "      <td>13.864943</td>\n",
              "      <td>3.327586</td>\n",
              "      <td>3.764368</td>\n",
              "      <td>1.615745</td>\n",
              "      <td>0.635057</td>\n",
              "    </tr>\n",
              "    <tr>\n",
              "      <th>3.0</th>\n",
              "      <td>30.008056</td>\n",
              "      <td>10.239174</td>\n",
              "      <td>1.638469</td>\n",
              "      <td>2.308157</td>\n",
              "      <td>14.001007</td>\n",
              "      <td>3.402820</td>\n",
              "      <td>3.798590</td>\n",
              "      <td>1.371281</td>\n",
              "      <td>0.550856</td>\n",
              "    </tr>\n",
              "    <tr>\n",
              "      <th>4.0</th>\n",
              "      <td>28.856601</td>\n",
              "      <td>8.816905</td>\n",
              "      <td>1.369536</td>\n",
              "      <td>2.400981</td>\n",
              "      <td>14.144514</td>\n",
              "      <td>3.420161</td>\n",
              "      <td>3.835861</td>\n",
              "      <td>0.674837</td>\n",
              "      <td>0.322926</td>\n",
              "    </tr>\n",
              "    <tr>\n",
              "      <th>5.0</th>\n",
              "      <td>28.574702</td>\n",
              "      <td>8.311662</td>\n",
              "      <td>1.252794</td>\n",
              "      <td>2.506334</td>\n",
              "      <td>14.399776</td>\n",
              "      <td>3.454918</td>\n",
              "      <td>3.892697</td>\n",
              "      <td>0.348174</td>\n",
              "      <td>0.181446</td>\n",
              "    </tr>\n",
              "  </tbody>\n",
              "</table>\n",
              "</div>"
            ],
            "text/plain": [
              "                     age  yrs_married  ...   affairs    affair\n",
              "rate_marriage                          ...                    \n",
              "1.0            33.823232    13.914141  ...  1.201671  0.747475\n",
              "2.0            30.471264    10.727011  ...  1.615745  0.635057\n",
              "3.0            30.008056    10.239174  ...  1.371281  0.550856\n",
              "4.0            28.856601     8.816905  ...  0.674837  0.322926\n",
              "5.0            28.574702     8.311662  ...  0.348174  0.181446\n",
              "\n",
              "[5 rows x 9 columns]"
            ]
          },
          "metadata": {},
          "execution_count": 33
        }
      ]
    },
    {
      "cell_type": "code",
      "metadata": {
        "colab": {
          "base_uri": "https://localhost:8080/",
          "height": 739
        },
        "id": "_aAGBZb06oVO",
        "outputId": "ff12f357-f9c4-4ab8-e936-2e1840724479"
      },
      "source": [
        "print(\"From above we can conclude following things: \")\n",
        "print(\"women with higher ages tends to give very low ratings their marriages\")\n",
        "print(\"We can observe that age, yrs_married, and children have some strong connections \")\n",
        "\n",
        "import seaborn as sns\n",
        "plt.figure(figsize=(10,10))\n",
        "sns.heatmap(dta.corr(),annot=True,mask=np.triu(dta.corr()), vmax=.3)"
      ],
      "execution_count": 41,
      "outputs": [
        {
          "output_type": "stream",
          "name": "stdout",
          "text": [
            "From above we can conclude following things: \n",
            "women with higher ages tends to give very low ratings their marriages\n",
            "We can observe that age, yrs_married, and children have some strong connections \n"
          ]
        },
        {
          "output_type": "execute_result",
          "data": {
            "text/plain": [
              "<matplotlib.axes._subplots.AxesSubplot at 0x7fd256a36590>"
            ]
          },
          "metadata": {},
          "execution_count": 41
        },
        {
          "output_type": "display_data",
          "data": {
            "image/png": "[encoded data removed]",
            "text/plain": [
              "<Figure size 720x720 with 2 Axes>"
            ]
          },
          "metadata": {
            "needs_background": "light"
          }
        }
      ]
    },
    {
      "cell_type": "code",
      "metadata": {
        "colab": {
          "base_uri": "https://localhost:8080/",
          "height": 459
        },
        "id": "NtXg_xSj7R4g",
        "outputId": "1d873e3c-3c44-4abe-fe2f-3cd14b8318fd"
      },
      "source": [
        "sns.jointplot(x='educ',y='affairs',data=dta,kind='kde')"
      ],
      "execution_count": 44,
      "outputs": [
        {
          "output_type": "execute_result",
          "data": {
            "text/plain": [
              "<seaborn.axisgrid.JointGrid at 0x7fd2565bbb10>"
            ]
          },
          "metadata": {},
          "execution_count": 44
        },
        {
          "output_type": "display_data",
          "data": {
            "image/png": "[encoded data removed]",
            "text/plain": [
              "<Figure size 432x432 with 3 Axes>"
            ]
          },
          "metadata": {
            "needs_background": "light"
          }
        }
      ]
    },
    {
      "cell_type": "code",
      "metadata": {
        "colab": {
          "base_uri": "https://localhost:8080/",
          "height": 313
        },
        "id": "IhE7pler9Ajh",
        "outputId": "b74226dd-f9dc-415c-8a2d-7faba4dd437f"
      },
      "source": [
        "plt.title(\"Education\")\n",
        "plt.xlabel(\"Level of Education\")\n",
        "dta.educ.hist()"
      ],
      "execution_count": 45,
      "outputs": [
        {
          "output_type": "execute_result",
          "data": {
            "text/plain": [
              "<matplotlib.axes._subplots.AxesSubplot at 0x7fd25427c150>"
            ]
          },
          "metadata": {},
          "execution_count": 45
        },
        {
          "output_type": "display_data",
          "data": {
            "image/png": "[encoded data removed]",
            "text/plain": [
              "<Figure size 432x288 with 1 Axes>"
            ]
          },
          "metadata": {
            "needs_background": "light"
          }
        }
      ]
    },
    {
      "cell_type": "code",
      "metadata": {
        "colab": {
          "base_uri": "https://localhost:8080/",
          "height": 313
        },
        "id": "QRKNsvB89T4s",
        "outputId": "594d52ba-69e8-49b4-a87a-368bd1e50c13"
      },
      "source": [
        "plt.title(\"Marriage Rating\")\n",
        "plt.xlabel(\"Marriage Rating Distribution\")\n",
        "dta.rate_marriage.hist()"
      ],
      "execution_count": 46,
      "outputs": [
        {
          "output_type": "execute_result",
          "data": {
            "text/plain": [
              "<matplotlib.axes._subplots.AxesSubplot at 0x7fd2541e7290>"
            ]
          },
          "metadata": {},
          "execution_count": 46
        },
        {
          "output_type": "display_data",
          "data": {
            "image/png": "[encoded data removed]",
            "text/plain": [
              "<Figure size 432x288 with 1 Axes>"
            ]
          },
          "metadata": {
            "needs_background": "light"
          }
        }
      ]
    },
    {
      "cell_type": "code",
      "metadata": {
        "colab": {
          "base_uri": "https://localhost:8080/",
          "height": 319
        },
        "id": "DbAKPDfh9m_g",
        "outputId": "7593a408-6737-4eef-d038-fe9be5897c8a"
      },
      "source": [
        "pd.crosstab(dta.rate_marriage,dta.affair).plot(kind='bar')\n",
        "plt.title(\"Marriage rating distribution based on Affairs\")\n",
        "plt.xlabel(\"Marriage Rating Distribution\")\n",
        "\n"
      ],
      "execution_count": 49,
      "outputs": [
        {
          "output_type": "execute_result",
          "data": {
            "text/plain": [
              "Text(0.5, 0, 'Marriage Rating Distribution')"
            ]
          },
          "metadata": {},
          "execution_count": 49
        },
        {
          "output_type": "display_data",
          "data": {
            "image/png": "[encoded data removed]",
            "text/plain": [
              "<Figure size 432x288 with 1 Axes>"
            ]
          },
          "metadata": {
            "needs_background": "light"
          }
        }
      ]
    },
    {
      "cell_type": "code",
      "metadata": {
        "colab": {
          "base_uri": "https://localhost:8080/",
          "height": 325
        },
        "id": "WJ5qW58e999Z",
        "outputId": "5e60b9f4-0b5d-4a44-af7c-23dc4177616b"
      },
      "source": [
        "pd.crosstab(dta.yrs_married,dta.affair).plot(kind='bar')\n",
        "plt.title(\"Years of marriage distribution based on Affairs\")\n",
        "plt.xlabel(\"Years of marriage Distribution\")"
      ],
      "execution_count": 50,
      "outputs": [
        {
          "output_type": "execute_result",
          "data": {
            "text/plain": [
              "Text(0.5, 0, 'Years of marriage Distribution')"
            ]
          },
          "metadata": {},
          "execution_count": 50
        },
        {
          "output_type": "display_data",
          "data": {
            "image/png": "[encoded data removed]",
            "text/plain": [
              "<Figure size 432x288 with 1 Axes>"
            ]
          },
          "metadata": {
            "needs_background": "light"
          }
        }
      ]
    },
    {
      "cell_type": "code",
      "metadata": {
        "colab": {
          "base_uri": "https://localhost:8080/",
          "height": 325
        },
        "id": "My6Os0Uf-6BW",
        "outputId": "5d5c37eb-f60e-41c9-b2a2-6e4297f0d2e3"
      },
      "source": [
        "pd.crosstab(dta.age,dta.affair).plot(kind='bar')\n",
        "plt.title(\"Age distribution based on Affairs\")\n",
        "plt.xlabel(\"Age Distribution\")"
      ],
      "execution_count": 51,
      "outputs": [
        {
          "output_type": "execute_result",
          "data": {
            "text/plain": [
              "Text(0.5, 0, 'Age Distribution')"
            ]
          },
          "metadata": {},
          "execution_count": 51
        },
        {
          "output_type": "display_data",
          "data": {
            "image/png": "[encoded data removed]",
            "text/plain": [
              "<Figure size 432x288 with 1 Axes>"
            ]
          },
          "metadata": {
            "needs_background": "light"
          }
        }
      ]
    },
    {
      "cell_type": "code",
      "metadata": {
        "colab": {
          "base_uri": "https://localhost:8080/"
        },
        "id": "3oCmE1ui_KOl",
        "outputId": "c4357dee-129a-4fc8-d3f4-eea4bc574fc9"
      },
      "source": [
        "model = LogisticRegression(max_iter=1000)\n",
        "model.fit(X_train,y_train)\n"
      ],
      "execution_count": 55,
      "outputs": [
        {
          "output_type": "execute_result",
          "data": {
            "text/plain": [
              "LogisticRegression(C=1.0, class_weight=None, dual=False, fit_intercept=True,\n",
              "                   intercept_scaling=1, l1_ratio=None, max_iter=1000,\n",
              "                   multi_class='auto', n_jobs=None, penalty='l2',\n",
              "                   random_state=None, solver='lbfgs', tol=0.0001, verbose=0,\n",
              "                   warm_start=False)"
            ]
          },
          "metadata": {},
          "execution_count": 55
        }
      ]
    },
    {
      "cell_type": "code",
      "metadata": {
        "colab": {
          "base_uri": "https://localhost:8080/"
        },
        "id": "cFm2T4uM_SHA",
        "outputId": "2134443e-6b8e-45c4-d982-5690db28a892"
      },
      "source": [
        "print(\"Training Accuracy:\")\n",
        "print(model.score(X_train,y_train))"
      ],
      "execution_count": 56,
      "outputs": [
        {
          "output_type": "stream",
          "name": "stdout",
          "text": [
            "Training Accuracy:\n",
            "0.7227022780832679\n"
          ]
        }
      ]
    },
    {
      "cell_type": "code",
      "metadata": {
        "id": "2CUMbkEW_m7d"
      },
      "source": [
        "y_pred = model.predict(X_test)\n",
        "y_pred_probability= model.predict_proba(X_test)\n"
      ],
      "execution_count": 61,
      "outputs": []
    },
    {
      "cell_type": "code",
      "metadata": {
        "colab": {
          "base_uri": "https://localhost:8080/"
        },
        "id": "JPfJl-8EAGYC",
        "outputId": "8d40fd61-0759-4ef2-e77a-798612df7ccc"
      },
      "source": [
        "print(\"Model Evaluation\")\n",
        "print(metrics.accuracy_score(y_test,y_pred))\n",
        "print(metrics.roc_auc_score(y_test,y_pred_probability[:,1]))"
      ],
      "execution_count": 63,
      "outputs": [
        {
          "output_type": "stream",
          "name": "stdout",
          "text": [
            "Model Evaluation\n",
            "0.7425431711145997\n",
            "0.7494836826282081\n"
          ]
        }
      ]
    },
    {
      "cell_type": "code",
      "metadata": {
        "colab": {
          "base_uri": "https://localhost:8080/"
        },
        "id": "UAnjnzHBBPRt",
        "outputId": "e109473f-1703-451e-8fb4-e0fbb9ce3642"
      },
      "source": [
        "pip install scikit-plot"
      ],
      "execution_count": 65,
      "outputs": [
        {
          "output_type": "stream",
          "name": "stdout",
          "text": [
            "Collecting scikit-plot\n",
            "  Downloading scikit_plot-0.3.7-py3-none-any.whl (33 kB)\n",
            "Requirement already satisfied: scikit-learn>=0.18 in /usr/local/lib/python3.7/dist-packages (from scikit-plot) (0.22.2.post1)\n",
            "Requirement already satisfied: scipy>=0.9 in /usr/local/lib/python3.7/dist-packages (from scikit-plot) (1.4.1)\n",
            "Requirement already satisfied: matplotlib>=1.4.0 in /usr/local/lib/python3.7/dist-packages (from scikit-plot) (3.2.2)\n",
            "Requirement already satisfied: joblib>=0.10 in /usr/local/lib/python3.7/dist-packages (from scikit-plot) (1.0.1)\n",
            "Requirement already satisfied: pyparsing!=2.0.4,!=2.1.2,!=2.1.6,>=2.0.1 in /usr/local/lib/python3.7/dist-packages (from matplotlib>=1.4.0->scikit-plot) (2.4.7)\n",
            "Requirement already satisfied: cycler>=0.10 in /usr/local/lib/python3.7/dist-packages (from matplotlib>=1.4.0->scikit-plot) (0.10.0)\n",
            "Requirement already satisfied: kiwisolver>=1.0.1 in /usr/local/lib/python3.7/dist-packages (from matplotlib>=1.4.0->scikit-plot) (1.3.1)\n",
            "Requirement already satisfied: python-dateutil>=2.1 in /usr/local/lib/python3.7/dist-packages (from matplotlib>=1.4.0->scikit-plot) (2.8.2)\n",
            "Requirement already satisfied: numpy>=1.11 in /usr/local/lib/python3.7/dist-packages (from matplotlib>=1.4.0->scikit-plot) (1.19.5)\n",
            "Requirement already satisfied: six in /usr/local/lib/python3.7/dist-packages (from cycler>=0.10->matplotlib>=1.4.0->scikit-plot) (1.15.0)\n",
            "Installing collected packages: scikit-plot\n",
            "Successfully installed scikit-plot-0.3.7\n"
          ]
        }
      ]
    },
    {
      "cell_type": "code",
      "metadata": {
        "colab": {
          "base_uri": "https://localhost:8080/",
          "height": 313
        },
        "id": "HKYNtp89A41U",
        "outputId": "c37d9c0e-31b1-4282-d0c2-0f1cb1fc97a6"
      },
      "source": [
        "from scikitplot import metrics\n",
        "\n",
        "metrics.plot_confusion_matrix(y_test,y_pred)\n"
      ],
      "execution_count": 66,
      "outputs": [
        {
          "output_type": "execute_result",
          "data": {
            "text/plain": [
              "<matplotlib.axes._subplots.AxesSubplot at 0x7fd253826cd0>"
            ]
          },
          "metadata": {},
          "execution_count": 66
        },
        {
          "output_type": "display_data",
          "data": {
            "image/png": "[encoded data removed]",
            "text/plain": [
              "<Figure size 432x288 with 2 Axes>"
            ]
          },
          "metadata": {
            "needs_background": "light"
          }
        }
      ]
    },
    {
      "cell_type": "code",
      "metadata": {
        "colab": {
          "base_uri": "https://localhost:8080/",
          "height": 367
        },
        "id": "j-FcXEM7BENr",
        "outputId": "c43e60c7-32cf-4f09-9aa9-ff97422781c7"
      },
      "source": [
        "metrics.plot_roc_curve(y_test,y_pred_probability,curves=['each_class'])"
      ],
      "execution_count": 67,
      "outputs": [
        {
          "output_type": "stream",
          "name": "stderr",
          "text": [
            "/usr/local/lib/python3.7/dist-packages/sklearn/utils/deprecation.py:87: FutureWarning: Function plot_roc_curve is deprecated; This will be removed in v0.5.0. Please use scikitplot.metrics.plot_roc instead.\n",
            "  warnings.warn(msg, category=FutureWarning)\n"
          ]
        },
        {
          "output_type": "execute_result",
          "data": {
            "text/plain": [
              "<matplotlib.axes._subplots.AxesSubplot at 0x7fd252e44490>"
            ]
          },
          "metadata": {},
          "execution_count": 67
        },
        {
          "output_type": "display_data",
          "data": {
            "image/png": "[encoded data removed]",
            "text/plain": [
              "<Figure size 432x288 with 1 Axes>"
            ]
          },
          "metadata": {
            "needs_background": "light"
          }
        }
      ]
    },
    {
      "cell_type": "code",
      "metadata": {
        "colab": {
          "base_uri": "https://localhost:8080/"
        },
        "id": "-FBAsN9dBezG",
        "outputId": "54439d41-b242-4bfc-b045-dfc78ccb75ad"
      },
      "source": [
        "from sklearn import metrics\n",
        "print(metrics.classification_report(y_test,y_pred))"
      ],
      "execution_count": 70,
      "outputs": [
        {
          "output_type": "stream",
          "name": "stdout",
          "text": [
            "              precision    recall  f1-score   support\n",
            "\n",
            "         0.0       0.77      0.91      0.83       885\n",
            "         1.0       0.64      0.37      0.47       389\n",
            "\n",
            "    accuracy                           0.74      1274\n",
            "   macro avg       0.70      0.64      0.65      1274\n",
            "weighted avg       0.73      0.74      0.72      1274\n",
            "\n"
          ]
        }
      ]
    },
    {
      "cell_type": "code",
      "metadata": {
        "colab": {
          "base_uri": "https://localhost:8080/"
        },
        "id": "o-QYYULsBpHM",
        "outputId": "c6b38be0-d8da-4d3a-b7d2-00048839b815"
      },
      "source": [
        "score = cross_val_score(model,X,y,scoring='accuracy',cv=10)\n",
        "score,score.mean()"
      ],
      "execution_count": 71,
      "outputs": [
        {
          "output_type": "execute_result",
          "data": {
            "text/plain": [
              "(array([0.72056515, 0.70172684, 0.73783359, 0.70643642, 0.70486656,\n",
              "        0.73155416, 0.73427673, 0.70440252, 0.75471698, 0.74685535]),\n",
              " 0.7243234303881204)"
            ]
          },
          "metadata": {},
          "execution_count": 71
        }
      ]
    },
    {
      "cell_type": "code",
      "metadata": {
        "colab": {
          "base_uri": "https://localhost:8080/"
        },
        "id": "1PYgV1GNCRHe",
        "outputId": "5b9c5a8d-314c-49db-8d62-ff48aa243f09"
      },
      "source": [
        "print(\"Lets predict the probability of a random women\")\n",
        "import random\n",
        "test_women = np.array(X.loc[random.randint(0,X.shape[0]),].values)\n",
        "test_women"
      ],
      "execution_count": 82,
      "outputs": [
        {
          "output_type": "stream",
          "name": "stdout",
          "text": [
            "Lets predict the probability of a random women\n"
          ]
        },
        {
          "output_type": "execute_result",
          "data": {
            "text/plain": [
              "array([ 1. ,  0. ,  0. ,  0. ,  1. ,  0. ,  0. ,  0. ,  1. ,  0. ,  0. ,\n",
              "        2. , 37. , 16.5,  2. ,  2. , 12. ])"
            ]
          },
          "metadata": {},
          "execution_count": 82
        }
      ]
    },
    {
      "cell_type": "code",
      "metadata": {
        "colab": {
          "base_uri": "https://localhost:8080/"
        },
        "id": "UFm5M8ybDL9t",
        "outputId": "c1170337-f2af-49c4-9d14-35eb2f47d6a1"
      },
      "source": [
        "model.predict(test_women.reshape(1,-1))"
      ],
      "execution_count": 85,
      "outputs": [
        {
          "output_type": "execute_result",
          "data": {
            "text/plain": [
              "array([1.])"
            ]
          },
          "metadata": {},
          "execution_count": 85
        }
      ]
    },
    {
      "cell_type": "code",
      "metadata": {
        "colab": {
          "base_uri": "https://localhost:8080/"
        },
        "id": "hkkHtUD6EGrR",
        "outputId": "912b5288-aa2c-47d6-d1ad-d7dcc6a095a8"
      },
      "source": [
        "model.predict_proba(test_women.reshape(1,-1))"
      ],
      "execution_count": 86,
      "outputs": [
        {
          "output_type": "execute_result",
          "data": {
            "text/plain": [
              "array([[0.17045124, 0.82954876]])"
            ]
          },
          "metadata": {},
          "execution_count": 86
        }
      ]
    },
    {
      "cell_type": "code",
      "metadata": {
        "colab": {
          "base_uri": "https://localhost:8080/"
        },
        "id": "ewr8gBYUET7w",
        "outputId": "643d20de-9e49-4e1b-f3e2-936c696d5dc1"
      },
      "source": [
        "print(\"From above we conclude that with 83% probability women would affair\")"
      ],
      "execution_count": 87,
      "outputs": [
        {
          "output_type": "stream",
          "name": "stdout",
          "text": [
            "From above we conclude that with 83% probability women would affair\n"
          ]
        }
      ]
    }
  ]
}